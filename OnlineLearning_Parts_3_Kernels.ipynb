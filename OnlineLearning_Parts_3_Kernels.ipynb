{
 "cells": [
  {
   "cell_type": "markdown",
   "metadata": {},
   "source": [
    "<div style=\"text-align:left\"><span style=\"color:black; font-family:Georgia; font-size:1.5em;\"><b>Experiements and testing implementations (Part 3) <center> (Kernelized version)</center></span></div> <br>\n",
    "<br>\n",
    "    \n",
    "<div style=\"text-align:center\"><span style=\"color:black; font-family:Georgia; font-size:1.2em;\"><b>Robin Khatri &nbsp;&nbsp;&nbsp;&nbsp;&nbsp; &nbsp;&nbsp;&nbsp; &nbsp;&nbsp;Mohammed Poul Doust</b></span></div>"
   ]
  },
  {
   "cell_type": "markdown",
   "metadata": {},
   "source": [
    "## Kernelized Online Passive-Aggressive Algorithms"
   ]
  },
  {
   "cell_type": "code",
   "execution_count": 1,
   "metadata": {},
   "outputs": [],
   "source": [
    "# Our implementations\n",
    "from paKernel import KPA # Kernelized version of PA\n",
    "from pa import PA # Passive-aggressive\n",
    "from utils import test_on_data # Function to test multiple classifiers\n",
    "from utils import get_accuracy # Simple function to compute accuracy\n",
    "\n",
    "# Python imports\n",
    "from sklearn import datasets\n",
    "import numpy as np\n",
    "from prediction_wrapper import get_accuracy\n",
    "from sklearn.svm import SVC\n",
    "from sklearn.model_selection import train_test_split\n",
    "import pandas as pd\n",
    "import time\n",
    "from sklearn.preprocessing import LabelBinarizer\n",
    "import matplotlib.pyplot as plt\n",
    "%matplotlib inline"
   ]
  },
  {
   "cell_type": "code",
   "execution_count": 2,
   "metadata": {},
   "outputs": [],
   "source": [
    "# Create a make moons dataset and scale the labels to +1 and -1 to work with our online learning algorithm\n",
    "n_samples = 1000\n",
    "X, y = datasets.make_moons(n_samples = n_samples, noise = 0.5)\n",
    "y = np.array(2*y - 1, dtype='int')"
   ]
  },
  {
   "cell_type": "code",
   "execution_count": 3,
   "metadata": {},
   "outputs": [
    {
     "name": "stdout",
     "output_type": "stream",
     "text": [
      "[ 1  1 -1  1  1]\n"
     ]
    }
   ],
   "source": [
    "print(y[0:5])"
   ]
  },
  {
   "cell_type": "code",
   "execution_count": 4,
   "metadata": {},
   "outputs": [],
   "source": [
    "kpa_classic = KPA(C = 0.1, update_ = 'classic', kernel = 'rbf', gamma = 0.5)\n",
    "kpa_fr = KPA(C = 0.1, update_ = 'fr', kernel = 'rbf', gamma = 0.5)\n",
    "kpa_sr = KPA(C = 0.1, update_ = 'sr', kernel = 'rbf', gamma = 0.5)\n",
    "svm = SVC(kernel = 'rbf', gamma = 0.5)"
   ]
  },
  {
   "cell_type": "code",
   "execution_count": 5,
   "metadata": {},
   "outputs": [],
   "source": [
    "X_train,X_test,y_train,y_test= train_test_split(X,y,test_size=0.2,random_state=0)"
   ]
  },
  {
   "cell_type": "code",
   "execution_count": 15,
   "metadata": {},
   "outputs": [
    {
     "name": "stdout",
     "output_type": "stream",
     "text": [
      "0.24766063690185547\n",
      "0.22258448600769043\n",
      "0.22449159622192383\n",
      "0.009786367416381836\n"
     ]
    }
   ],
   "source": [
    "start = time.time()\n",
    "kpa_classic.fit(X_train,y_train) # Classic update\n",
    "print(time.time()-start)\n",
    "start = time.time()\n",
    "kpa_fr.fit(X_train,y_train) # First relaxation\n",
    "print(time.time()-start)\n",
    "start = time.time()\n",
    "kpa_sr.fit(X_train,y_train) # Second relaxation\n",
    "print(time.time()-start)\n",
    "start = time.time()\n",
    "svm.fit(X_train,y_train)\n",
    "print(time.time()-start)"
   ]
  },
  {
   "cell_type": "code",
   "execution_count": 10,
   "metadata": {},
   "outputs": [],
   "source": [
    "y_pred_classic = kpa_classic.predict_all(X_test)\n",
    "\n",
    "y_pred_fr = kpa_fr.predict_all(X_test)\n",
    "\n",
    "y_pred_sr = kpa_sr.predict_all(X_test)\n",
    "\n",
    "y_pred_svm = svm.predict(X_test)"
   ]
  },
  {
   "cell_type": "code",
   "execution_count": 7,
   "metadata": {},
   "outputs": [],
   "source": []
  },
  {
   "cell_type": "code",
   "execution_count": 8,
   "metadata": {},
   "outputs": [
    {
     "name": "stdout",
     "output_type": "stream",
     "text": [
      "Accuracy is: 85.0\n"
     ]
    },
    {
     "data": {
      "text/plain": [
       "85.0"
      ]
     },
     "execution_count": 8,
     "metadata": {},
     "output_type": "execute_result"
    }
   ],
   "source": [
    "# Accuracy with PA sr update\n",
    "get_accuracy(y_pred_sr,y_test)"
   ]
  },
  {
   "cell_type": "code",
   "execution_count": 11,
   "metadata": {},
   "outputs": [
    {
     "name": "stdout",
     "output_type": "stream",
     "text": [
      "Accuracy is: 80.0\n"
     ]
    },
    {
     "data": {
      "text/plain": [
       "80.0"
      ]
     },
     "execution_count": 11,
     "metadata": {},
     "output_type": "execute_result"
    }
   ],
   "source": [
    "# Accuracy with PA classic update\n",
    "get_accuracy(y_pred_classic,y_test)"
   ]
  },
  {
   "cell_type": "code",
   "execution_count": 12,
   "metadata": {},
   "outputs": [
    {
     "name": "stdout",
     "output_type": "stream",
     "text": [
      "Accuracy is: 85.0\n"
     ]
    },
    {
     "data": {
      "text/plain": [
       "85.0"
      ]
     },
     "execution_count": 12,
     "metadata": {},
     "output_type": "execute_result"
    }
   ],
   "source": [
    "# Accuracy with PA first relaxation update\n",
    "get_accuracy(y_pred_fr,y_test)"
   ]
  },
  {
   "cell_type": "code",
   "execution_count": 13,
   "metadata": {},
   "outputs": [
    {
     "name": "stdout",
     "output_type": "stream",
     "text": [
      "Accuracy is: 84.5\n"
     ]
    },
    {
     "data": {
      "text/plain": [
       "84.5"
      ]
     },
     "execution_count": 13,
     "metadata": {},
     "output_type": "execute_result"
    }
   ],
   "source": [
    "# Accuracy with SVM\n",
    "get_accuracy(y_pred_svm,y_test)"
   ]
  },
  {
   "cell_type": "markdown",
   "metadata": {},
   "source": [
    "### Visualize decision boundaries for Kernelized PA (gamma=0.5, C=0.1, update = first relaxation) and SVM with rbf kernel (gamma=0.5)"
   ]
  },
  {
   "cell_type": "code",
   "execution_count": 12,
   "metadata": {
    "scrolled": true
   },
   "outputs": [
    {
     "data": {
      "text/plain": [
       "Text(0.5, 1.0, 'Online PA, RBF Kernel, Accuracy=0.850000, Time-taken0.080000')"
      ]
     },
     "execution_count": 12,
     "metadata": {},
     "output_type": "execute_result"
    },
    {
     "data": {
      "image/png": "[encoded data removed]",
      "text/plain": [
       "<Figure size 432x288 with 1 Axes>"
      ]
     },
     "metadata": {},
     "output_type": "display_data"
    }
   ],
   "source": [
    "n_samples = 100\n",
    "X, y = datasets.make_moons(n_samples = n_samples, noise = 0.3)\n",
    "y = np.array(2*y - 1, dtype='int')\n",
    "\n",
    "h = 0.02 # Mesh step size\n",
    "\n",
    "# Meshgrid\n",
    "x_min, x_max = X[:, 0].min() - 1, X[:, 0].max() + 1\n",
    "y_min, y_max = X[:, 1].min() - 1, X[:, 1].max() + 1\n",
    "xx, yy = np.meshgrid(np.arange(x_min, x_max, h),\n",
    "                                   np.arange(y_min, y_max, h))\n",
    "\n",
    "kernel = 'rbf'\n",
    "\n",
    "start_ = time.time()\n",
    "clf = KPA(C = 0.1, update_='fr',kernel = kernel, gamma = 0.5)\n",
    "clf.fit(X,y)\n",
    "\n",
    "test_size = X.shape[0]\n",
    "y_pred = clf.predict_all(X)\n",
    "time_taken = time.time()-start_\n",
    "acc = (y_pred==y).mean()\n",
    "\n",
    "test_X = np.c_[xx.ravel(), yy.ravel()]\n",
    "Z = clf.predict_all(np.c_[xx.ravel(), yy.ravel()])\n",
    "Z = Z.reshape(xx.shape)\n",
    "plt.contourf(xx, yy, Z, cmap=plt.cm.coolwarm, alpha=0.8)\n",
    "plt.scatter(X[:, 0], X[:, 1], c=y, cmap=plt.cm.coolwarm)\n",
    "plt.xlabel('X1')\n",
    "plt.ylabel('X2')\n",
    "plt.xlim(xx.min(), xx.max())\n",
    "plt.ylim(yy.min(), yy.max())\n",
    "plt.xticks(())\n",
    "plt.yticks(())\n",
    "plt.title('Online PA, RBF Kernel, Accuracy=%f, Time-taken%f'%(round(acc,2),round(time_taken,2)))"
   ]
  },
  {
   "cell_type": "code",
   "execution_count": 13,
   "metadata": {},
   "outputs": [
    {
     "data": {
      "text/plain": [
       "Text(0.5, 1.0, 'SVM, RBF Kernel, Accuracy=0.870000, Time-taken0.000000')"
      ]
     },
     "execution_count": 13,
     "metadata": {},
     "output_type": "execute_result"
    },
    {
     "data": {
      "image/png": "[encoded data removed]",
      "text/plain": [
       "<Figure size 432x288 with 1 Axes>"
      ]
     },
     "metadata": {},
     "output_type": "display_data"
    }
   ],
   "source": [
    "start_ = time.time()\n",
    "clf = SVC(kernel = kernel, gamma = 0.5)\n",
    "clf.fit(X,y)\n",
    "\n",
    "test_size = X.shape[0]\n",
    "y_pred = clf.predict(X)\n",
    "time_taken = time.time()-start_\n",
    "acc = (y_pred==y).mean()\n",
    "\n",
    "Z = clf.predict(np.c_[xx.ravel(), yy.ravel()])\n",
    "Z = Z.reshape(xx.shape)\n",
    "plt.contourf(xx, yy, Z, cmap=plt.cm.coolwarm, alpha=0.8)\n",
    "plt.scatter(X[:, 0], X[:, 1], c=y, cmap=plt.cm.coolwarm)\n",
    "plt.xlabel('X1')\n",
    "plt.ylabel('X2')\n",
    "plt.xlim(xx.min(), xx.max())\n",
    "plt.ylim(yy.min(), yy.max())\n",
    "plt.xticks(())\n",
    "plt.yticks(())\n",
    "plt.title('SVM, RBF Kernel, Accuracy=%f, Time-taken%f'%(round(acc,2),round(time_taken,2)))"
   ]
  },
  {
   "cell_type": "markdown",
   "metadata": {},
   "source": [
    "### Visualize decision boundaries for Kernelized PA with polynomial Kernel (degree=3, C=0.1, update = first relaxation)"
   ]
  },
  {
   "cell_type": "code",
   "execution_count": 14,
   "metadata": {},
   "outputs": [
    {
     "data": {
      "text/plain": [
       "Text(0.5, 1.0, 'SVM, RBF Kernel, Accuracy=0.840000, Time-taken0.060000')"
      ]
     },
     "execution_count": 14,
     "metadata": {},
     "output_type": "execute_result"
    },
    {
     "data": {
      "image/png": "[encoded data removed]",
      "text/plain": [
       "<Figure size 432x288 with 1 Axes>"
      ]
     },
     "metadata": {},
     "output_type": "display_data"
    }
   ],
   "source": [
    "kernel = 'poly'\n",
    "start_ = time.time()\n",
    "clf = KPA(C = 0.1, update_= 'fr',kernel= kernel, degree= 3)\n",
    "clf.fit(X,y)\n",
    "\n",
    "test_size = X.shape[0]\n",
    "y_pred = clf.predict_all(X)\n",
    "time_taken = time.time()-start_\n",
    "acc = (y_pred==y).mean()\n",
    "\n",
    "Z = clf.predict_all(np.c_[xx.ravel(), yy.ravel()])\n",
    "Z = Z.reshape(xx.shape)\n",
    "plt.contourf(xx, yy, Z, cmap=plt.cm.coolwarm, alpha=0.8)\n",
    "plt.scatter(X[:, 0], X[:, 1], c=y, cmap=plt.cm.coolwarm)\n",
    "plt.xlabel('X1')\n",
    "plt.ylabel('X2')\n",
    "plt.xlim(xx.min(), xx.max())\n",
    "plt.ylim(yy.min(), yy.max())\n",
    "plt.xticks(())\n",
    "plt.yticks(())\n",
    "plt.title('SVM, RBF Kernel, Accuracy=%f, Time-taken%f'%(round(acc,2),round(time_taken,2)))"
   ]
  },
  {
   "cell_type": "markdown",
   "metadata": {},
   "source": [
    "### Effect of C"
   ]
  },
  {
   "cell_type": "code",
   "execution_count": 30,
   "metadata": {},
   "outputs": [
    {
     "name": "stdout",
     "output_type": "stream",
     "text": [
      "C: [0.05, 0.1, 0.15, 0.2, 0.25, 0.3, 0.35, 0.4, 0.45, 0.5, 0.55, 0.6, 0.65, 0.7, 0.75, 0.8, 0.85, 0.9, 0.95, 1.0]\n"
     ]
    }
   ],
   "source": [
    "# Test accuracy with changing C (Make_Moons dataset)\n",
    "temp = list(range(1,21))\n",
    "C = [round(x*0.05,2) for x in temp]\n",
    "print('C:',C)\n",
    "Accuracy = np.zeros((len(C),2))\n",
    "a = 0\n",
    "n_samples = 1000\n",
    "for i in range(len(C)):\n",
    "    c = C[i]\n",
    "    X, y = datasets.make_moons(n_samples = n_samples, noise = 0.1)\n",
    "    y = np.array(2*y - 1, dtype='int')\n",
    "    kpa = KPA(C=c,update_='fr')\n",
    "   \n",
    "    kpa.fit(X,y)\n",
    "    y_pred = kpa.predict_all(X)\n",
    "    Accuracy[a,0] = (y_pred==y).mean()*100\n",
    "\n",
    "    a += 1 "
   ]
  },
  {
   "cell_type": "code",
   "execution_count": 31,
   "metadata": {},
   "outputs": [
    {
     "data": {
      "text/plain": [
       "array([94.1, 97. , 97.4, 98.7, 99.4, 99. , 98.7, 98.8, 99.5, 99.4, 99.8,\n",
       "       99.4, 99.6, 99.6, 99.7, 99. , 99.6, 97.3, 99.9, 99.7])"
      ]
     },
     "execution_count": 31,
     "metadata": {},
     "output_type": "execute_result"
    }
   ],
   "source": [
    "Accuracy[:,0].T"
   ]
  },
  {
   "cell_type": "code",
   "execution_count": 32,
   "metadata": {},
   "outputs": [
    {
     "data": {
      "text/plain": [
       "Text(0.5, 1.0, 'Accuracy v. C')"
      ]
     },
     "execution_count": 32,
     "metadata": {},
     "output_type": "execute_result"
    },
    {
     "data": {
      "image/png": "[encoded data removed]",
      "text/plain": [
       "<Figure size 432x288 with 1 Axes>"
      ]
     },
     "metadata": {
      "needs_background": "light"
     },
     "output_type": "display_data"
    }
   ],
   "source": [
    "plt.plot(C,Accuracy[:,0])\n",
    "plt.xlabel('C')\n",
    "plt.ylabel('Accuracy')\n",
    "plt.title('Accuracy v. C')"
   ]
  },
  {
   "cell_type": "markdown",
   "metadata": {},
   "source": [
    "### Time Complexity"
   ]
  },
  {
   "cell_type": "code",
   "execution_count": 16,
   "metadata": {},
   "outputs": [],
   "source": [
    "sample_sizes = [50,100,150,200,300,400,600,1000,2000,10000]\n",
    "time_taken = np.zeros((len(sample_sizes),2)) # 3 classifiers - 1 for each update\n",
    "a = 0\n",
    "for i in range(len(sample_sizes)):\n",
    "    n_samples = sample_sizes[i]\n",
    "    X, y = datasets.make_moons(n_samples = n_samples, noise = 0.5)\n",
    "    y = np.array(2*y - 1, dtype='int')\n",
    "    kpa_classic = KPA(update_='classic')\n",
    "    kpa_fr = KPA(update_='fr')\n",
    "    \n",
    "    s = time.time()\n",
    "    kpa_classic.fit(X,y)\n",
    "    time_taken[a,0] = round(time.time() - s,2)\n",
    "    \n",
    "    s = time.time()\n",
    "    kpa_fr.fit(X,y)\n",
    "    time_taken[a,1] = round(time.time() - s,2)\n",
    "    \n",
    "    a += 1"
   ]
  },
  {
   "cell_type": "code",
   "execution_count": 17,
   "metadata": {},
   "outputs": [
    {
     "name": "stdout",
     "output_type": "stream",
     "text": [
      "classic fr\n",
      "[[0.02 0.02]\n",
      " [0.03 0.03]\n",
      " [0.04 0.04]\n",
      " [0.05 0.05]\n",
      " [0.07 0.08]\n",
      " [0.11 0.11]\n",
      " [0.19 0.15]\n",
      " [0.26 0.27]\n",
      " [0.53 0.52]\n",
      " [4.11 3.88]]\n"
     ]
    }
   ],
   "source": [
    "print('classic','fr')\n",
    "print(time_taken)"
   ]
  },
  {
   "cell_type": "code",
   "execution_count": 18,
   "metadata": {},
   "outputs": [
    {
     "data": {
      "text/plain": [
       "Text(0.5, 1.0, 'train time-complexity for classic update')"
      ]
     },
     "execution_count": 18,
     "metadata": {},
     "output_type": "execute_result"
    },
    {
     "data": {
      "image/png": "[encoded data removed]",
      "text/plain": [
       "<Figure size 1440x360 with 2 Axes>"
      ]
     },
     "metadata": {
      "needs_background": "light"
     },
     "output_type": "display_data"
    }
   ],
   "source": [
    "plt.figure(figsize=(20,5))\n",
    "\n",
    "plt.subplot(1,2, 1)\n",
    "plt.plot(sample_sizes,time_taken[:,1])\n",
    "plt.xlabel('Sample size')\n",
    "plt.ylabel('Time taken to train')\n",
    "plt.title('train time-complexity for first relaxation')\n",
    "\n",
    "plt.subplot(1,2,2)\n",
    "plt.plot(sample_sizes,time_taken[:,0])\n",
    "plt.xlabel('Sample size')\n",
    "plt.ylabel('Time taken to train')\n",
    "plt.title('train time-complexity for classic update')"
   ]
  },
  {
   "cell_type": "code",
   "execution_count": 21,
   "metadata": {},
   "outputs": [],
   "source": [
    "sample_sizes = [50,100,150,200,300,400,600,1000,2000,10000]\n",
    "time_taken = np.zeros((len(sample_sizes),2)) # 2 classifiers - 1 for each update\n",
    "a = 0\n",
    "for i in range(len(sample_sizes)):\n",
    "    n_samples = sample_sizes[i]\n",
    "    X, y = datasets.make_moons(n_samples = n_samples, noise = 0.5)\n",
    "    y = np.array(2*y - 1, dtype='int')\n",
    "    kpa_classic = KPA(update_='classic')\n",
    "    kpa_fr = KPA(update_='fr')\n",
    "    \n",
    "    \n",
    "    kpa_classic.fit(X,y)\n",
    "    kpa_fr.fit(X,y)\n",
    "    s = time.time()\n",
    "    y_pred = kpa_classic.predict_all(X)\n",
    "    time_taken[a,0] = round(time.time() - s,2)\n",
    "    \n",
    "    s = time.time()\n",
    "    y_pred = kpa_fr.predict_all(X)\n",
    "    time_taken[a,1] = round(time.time() - s,2)\n",
    "    \n",
    "    a += 1"
   ]
  },
  {
   "cell_type": "code",
   "execution_count": 22,
   "metadata": {},
   "outputs": [
    {
     "data": {
      "text/plain": [
       "Text(0.5, 1.0, 'test time-complexity for classic update')"
      ]
     },
     "execution_count": 22,
     "metadata": {},
     "output_type": "execute_result"
    },
    {
     "data": {
      "image/png": "[encoded data removed]",
      "text/plain": [
       "<Figure size 1440x360 with 2 Axes>"
      ]
     },
     "metadata": {
      "needs_background": "light"
     },
     "output_type": "display_data"
    }
   ],
   "source": [
    "plt.figure(figsize=(20,5))\n",
    "\n",
    "plt.subplot(1,2, 1)\n",
    "plt.plot(sample_sizes,time_taken[:,1])\n",
    "plt.xlabel('Sample size')\n",
    "plt.ylabel('Time taken to predict')\n",
    "plt.title('test time-complexity for first relaxation')\n",
    "\n",
    "plt.subplot(1,2,2)\n",
    "plt.plot(sample_sizes,time_taken[:,0])\n",
    "plt.xlabel('Sample size')\n",
    "plt.ylabel('Time taken to predict')\n",
    "plt.title('test time-complexity for classic update')"
   ]
  },
  {
   "cell_type": "markdown",
   "metadata": {},
   "source": [
    "### On datasets from LIBSVM Webpage"
   ]
  },
  {
   "cell_type": "markdown",
   "metadata": {},
   "source": [
    "**Ionosphere dataset**"
   ]
  },
  {
   "cell_type": "code",
   "execution_count": 20,
   "metadata": {},
   "outputs": [],
   "source": [
    "iono = pd.read_csv(\"ionosphere.csv\",sep=',',header=None)"
   ]
  },
  {
   "cell_type": "code",
   "execution_count": 21,
   "metadata": {},
   "outputs": [
    {
     "data": {
      "text/plain": [
       "(351, 35)"
      ]
     },
     "execution_count": 21,
     "metadata": {},
     "output_type": "execute_result"
    }
   ],
   "source": [
    "iono.shape"
   ]
  },
  {
   "cell_type": "code",
   "execution_count": 22,
   "metadata": {
    "scrolled": false
   },
   "outputs": [
    {
     "data": {
      "text/html": [
       "<div>\n",
       "<style scoped>\n",
       "    .dataframe tbody tr th:only-of-type {\n",
       "        vertical-align: middle;\n",
       "    }\n",
       "\n",
       "    .dataframe tbody tr th {\n",
       "        vertical-align: top;\n",
       "    }\n",
       "\n",
       "    .dataframe thead th {\n",
       "        text-align: right;\n",
       "    }\n",
       "</style>\n",
       "<table border=\"1\" class=\"dataframe\">\n",
       "  <thead>\n",
       "    <tr style=\"text-align: right;\">\n",
       "      <th></th>\n",
       "      <th>0</th>\n",
       "      <th>1</th>\n",
       "      <th>2</th>\n",
       "      <th>3</th>\n",
       "      <th>4</th>\n",
       "      <th>5</th>\n",
       "      <th>6</th>\n",
       "      <th>7</th>\n",
       "      <th>8</th>\n",
       "      <th>9</th>\n",
       "      <th>...</th>\n",
       "      <th>25</th>\n",
       "      <th>26</th>\n",
       "      <th>27</th>\n",
       "      <th>28</th>\n",
       "      <th>29</th>\n",
       "      <th>30</th>\n",
       "      <th>31</th>\n",
       "      <th>32</th>\n",
       "      <th>33</th>\n",
       "      <th>34</th>\n",
       "    </tr>\n",
       "  </thead>\n",
       "  <tbody>\n",
       "    <tr>\n",
       "      <td>0</td>\n",
       "      <td>1</td>\n",
       "      <td>0</td>\n",
       "      <td>0.99539</td>\n",
       "      <td>-0.05889</td>\n",
       "      <td>0.85243</td>\n",
       "      <td>0.02306</td>\n",
       "      <td>0.83398</td>\n",
       "      <td>-0.37708</td>\n",
       "      <td>1.00000</td>\n",
       "      <td>0.03760</td>\n",
       "      <td>...</td>\n",
       "      <td>-0.51171</td>\n",
       "      <td>0.41078</td>\n",
       "      <td>-0.46168</td>\n",
       "      <td>0.21266</td>\n",
       "      <td>-0.34090</td>\n",
       "      <td>0.42267</td>\n",
       "      <td>-0.54487</td>\n",
       "      <td>0.18641</td>\n",
       "      <td>-0.45300</td>\n",
       "      <td>g</td>\n",
       "    </tr>\n",
       "    <tr>\n",
       "      <td>1</td>\n",
       "      <td>1</td>\n",
       "      <td>0</td>\n",
       "      <td>1.00000</td>\n",
       "      <td>-0.18829</td>\n",
       "      <td>0.93035</td>\n",
       "      <td>-0.36156</td>\n",
       "      <td>-0.10868</td>\n",
       "      <td>-0.93597</td>\n",
       "      <td>1.00000</td>\n",
       "      <td>-0.04549</td>\n",
       "      <td>...</td>\n",
       "      <td>-0.26569</td>\n",
       "      <td>-0.20468</td>\n",
       "      <td>-0.18401</td>\n",
       "      <td>-0.19040</td>\n",
       "      <td>-0.11593</td>\n",
       "      <td>-0.16626</td>\n",
       "      <td>-0.06288</td>\n",
       "      <td>-0.13738</td>\n",
       "      <td>-0.02447</td>\n",
       "      <td>b</td>\n",
       "    </tr>\n",
       "    <tr>\n",
       "      <td>2</td>\n",
       "      <td>1</td>\n",
       "      <td>0</td>\n",
       "      <td>1.00000</td>\n",
       "      <td>-0.03365</td>\n",
       "      <td>1.00000</td>\n",
       "      <td>0.00485</td>\n",
       "      <td>1.00000</td>\n",
       "      <td>-0.12062</td>\n",
       "      <td>0.88965</td>\n",
       "      <td>0.01198</td>\n",
       "      <td>...</td>\n",
       "      <td>-0.40220</td>\n",
       "      <td>0.58984</td>\n",
       "      <td>-0.22145</td>\n",
       "      <td>0.43100</td>\n",
       "      <td>-0.17365</td>\n",
       "      <td>0.60436</td>\n",
       "      <td>-0.24180</td>\n",
       "      <td>0.56045</td>\n",
       "      <td>-0.38238</td>\n",
       "      <td>g</td>\n",
       "    </tr>\n",
       "    <tr>\n",
       "      <td>3</td>\n",
       "      <td>1</td>\n",
       "      <td>0</td>\n",
       "      <td>1.00000</td>\n",
       "      <td>-0.45161</td>\n",
       "      <td>1.00000</td>\n",
       "      <td>1.00000</td>\n",
       "      <td>0.71216</td>\n",
       "      <td>-1.00000</td>\n",
       "      <td>0.00000</td>\n",
       "      <td>0.00000</td>\n",
       "      <td>...</td>\n",
       "      <td>0.90695</td>\n",
       "      <td>0.51613</td>\n",
       "      <td>1.00000</td>\n",
       "      <td>1.00000</td>\n",
       "      <td>-0.20099</td>\n",
       "      <td>0.25682</td>\n",
       "      <td>1.00000</td>\n",
       "      <td>-0.32382</td>\n",
       "      <td>1.00000</td>\n",
       "      <td>b</td>\n",
       "    </tr>\n",
       "    <tr>\n",
       "      <td>4</td>\n",
       "      <td>1</td>\n",
       "      <td>0</td>\n",
       "      <td>1.00000</td>\n",
       "      <td>-0.02401</td>\n",
       "      <td>0.94140</td>\n",
       "      <td>0.06531</td>\n",
       "      <td>0.92106</td>\n",
       "      <td>-0.23255</td>\n",
       "      <td>0.77152</td>\n",
       "      <td>-0.16399</td>\n",
       "      <td>...</td>\n",
       "      <td>-0.65158</td>\n",
       "      <td>0.13290</td>\n",
       "      <td>-0.53206</td>\n",
       "      <td>0.02431</td>\n",
       "      <td>-0.62197</td>\n",
       "      <td>-0.05707</td>\n",
       "      <td>-0.59573</td>\n",
       "      <td>-0.04608</td>\n",
       "      <td>-0.65697</td>\n",
       "      <td>g</td>\n",
       "    </tr>\n",
       "  </tbody>\n",
       "</table>\n",
       "<p>5 rows × 35 columns</p>\n",
       "</div>"
      ],
      "text/plain": [
       "   0   1        2        3        4        5        6        7        8   \\\n",
       "0   1   0  0.99539 -0.05889  0.85243  0.02306  0.83398 -0.37708  1.00000   \n",
       "1   1   0  1.00000 -0.18829  0.93035 -0.36156 -0.10868 -0.93597  1.00000   \n",
       "2   1   0  1.00000 -0.03365  1.00000  0.00485  1.00000 -0.12062  0.88965   \n",
       "3   1   0  1.00000 -0.45161  1.00000  1.00000  0.71216 -1.00000  0.00000   \n",
       "4   1   0  1.00000 -0.02401  0.94140  0.06531  0.92106 -0.23255  0.77152   \n",
       "\n",
       "        9   ...       25       26       27       28       29       30  \\\n",
       "0  0.03760  ... -0.51171  0.41078 -0.46168  0.21266 -0.34090  0.42267   \n",
       "1 -0.04549  ... -0.26569 -0.20468 -0.18401 -0.19040 -0.11593 -0.16626   \n",
       "2  0.01198  ... -0.40220  0.58984 -0.22145  0.43100 -0.17365  0.60436   \n",
       "3  0.00000  ...  0.90695  0.51613  1.00000  1.00000 -0.20099  0.25682   \n",
       "4 -0.16399  ... -0.65158  0.13290 -0.53206  0.02431 -0.62197 -0.05707   \n",
       "\n",
       "        31       32       33  34  \n",
       "0 -0.54487  0.18641 -0.45300   g  \n",
       "1 -0.06288 -0.13738 -0.02447   b  \n",
       "2 -0.24180  0.56045 -0.38238   g  \n",
       "3  1.00000 -0.32382  1.00000   b  \n",
       "4 -0.59573 -0.04608 -0.65697   g  \n",
       "\n",
       "[5 rows x 35 columns]"
      ]
     },
     "execution_count": 22,
     "metadata": {},
     "output_type": "execute_result"
    }
   ],
   "source": [
    "iono.head()"
   ]
  },
  {
   "cell_type": "code",
   "execution_count": 23,
   "metadata": {},
   "outputs": [],
   "source": [
    "iono.iloc[:,-1] = LabelBinarizer(neg_label=-1,pos_label=1).fit_transform(iono.iloc[:,-1])"
   ]
  },
  {
   "cell_type": "code",
   "execution_count": 24,
   "metadata": {},
   "outputs": [],
   "source": [
    "iono = np.array(iono)\n",
    "X,y = iono[:,0:(iono.shape[1]-2)], np.array(iono[:,-1],dtype='int')"
   ]
  },
  {
   "cell_type": "code",
   "execution_count": 25,
   "metadata": {},
   "outputs": [
    {
     "name": "stdout",
     "output_type": "stream",
     "text": [
      "Accuracy is: 97.43589743589743\n"
     ]
    },
    {
     "data": {
      "text/plain": [
       "97.43589743589743"
      ]
     },
     "execution_count": 25,
     "metadata": {},
     "output_type": "execute_result"
    }
   ],
   "source": [
    "clf = KPA(C=0.5,kernel='rbf',gamma=0.5)\n",
    "clf.fit(X,y)\n",
    "get_accuracy(clf.predict_all(X),y)"
   ]
  },
  {
   "cell_type": "code",
   "execution_count": 26,
   "metadata": {},
   "outputs": [
    {
     "name": "stdout",
     "output_type": "stream",
     "text": [
      "'SVM'( time taken:  0.01334238052368164 , accuracy:   97.17 %)\n",
      "'PA (First relaxation)'( time taken:  0.02760934829711914 , accuracy:   84.91 %)\n",
      "'KPA rbf kernel'( time taken:  0.08585405349731445 , accuracy:   91.51 %)\n",
      "'KPA polynomial kernel'( time taken:  0.041235923767089844 , accuracy:   89.62 %)\n"
     ]
    }
   ],
   "source": [
    "classifiers = {'SVM': SVC(kernel='rbf',gamma=0.5), \n",
    "               'PA (First relaxation)': PA(C=0.5,update_='fr'), \n",
    "               'KPA rbf kernel': KPA(C=0.5,kernel='rbf',gamma=0.5),\n",
    "              'KPA polynomial kernel': KPA(C=0.5,kernel='poly',degree=3)}\n",
    "test_on_data(X,y,classifiers)"
   ]
  },
  {
   "cell_type": "markdown",
   "metadata": {},
   "source": [
    "**With kernels, accuracy is clearly better.**"
   ]
  }
 ],
 "metadata": {
  "kernelspec": {
   "display_name": "Python 3",
   "language": "python",
   "name": "python3"
  },
  "language_info": {
   "codemirror_mode": {
    "name": "ipython",
    "version": 3
   },
   "file_extension": ".py",
   "mimetype": "text/x-python",
   "name": "python",
   "nbconvert_exporter": "python",
   "pygments_lexer": "ipython3",
   "version": "3.7.4"
  }
 },
 "nbformat": 4,
 "nbformat_minor": 2
}
